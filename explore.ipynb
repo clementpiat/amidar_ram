{
 "cells": [
  {
   "cell_type": "code",
   "execution_count": 1,
   "metadata": {},
   "outputs": [],
   "source": [
    "import gym\n",
    "import time\n",
    "import torch\n",
    "from torch import nn\n",
    "import numpy as np\n",
    "import copy\n",
    "import random as rd\n",
    "import matplotlib.pyplot as plt\n",
    "\n",
    "from agent import Agent\n",
    "from net import DeepQNet\n",
    "from train import train"
   ]
  },
  {
   "cell_type": "markdown",
   "metadata": {},
   "source": [
    "# Understanding the environment"
   ]
  },
  {
   "cell_type": "code",
   "execution_count": 2,
   "metadata": {},
   "outputs": [
    {
     "name": "stdout",
     "output_type": "stream",
     "text": [
      "Episode finished after 33 timesteps\n"
     ]
    }
   ],
   "source": [
    "env = gym.make('CartPole-v1')\n",
    "env.reset()\n",
    "\n",
    "for i_episode in range(1):\n",
    "    observation = env.reset()\n",
    "    for t in range(200):\n",
    "        time.sleep(0.02)\n",
    "        env.render()\n",
    "        action = env.action_space.sample()\n",
    "        observation, reward, done, info = env.step(action)\n",
    "        if done:\n",
    "            print(\"Episode finished after {} timesteps\".format(t+1))\n",
    "            break\n",
    "env.close()"
   ]
  },
  {
   "cell_type": "code",
   "execution_count": 3,
   "metadata": {},
   "outputs": [
    {
     "data": {
      "text/plain": [
       "Discrete(2)"
      ]
     },
     "execution_count": 3,
     "metadata": {},
     "output_type": "execute_result"
    }
   ],
   "source": [
    "env.action_space"
   ]
  },
  {
   "cell_type": "code",
   "execution_count": 4,
   "metadata": {},
   "outputs": [
    {
     "data": {
      "text/plain": [
       "Box(-3.4028234663852886e+38, 3.4028234663852886e+38, (4,), float32)"
      ]
     },
     "execution_count": 4,
     "metadata": {},
     "output_type": "execute_result"
    }
   ],
   "source": [
    "env.observation_space"
   ]
  },
  {
   "cell_type": "code",
   "execution_count": 5,
   "metadata": {},
   "outputs": [
    {
     "data": {
      "text/plain": [
       "array([-4.8000002e+00, -3.4028235e+38, -4.1887903e-01, -3.4028235e+38],\n",
       "      dtype=float32)"
      ]
     },
     "execution_count": 5,
     "metadata": {},
     "output_type": "execute_result"
    }
   ],
   "source": [
    "env.observation_space.low"
   ]
  },
  {
   "cell_type": "markdown",
   "metadata": {},
   "source": [
    "# Deep Q Network\n",
    "\n",
    "> https://towardsdatascience.com/qrash-course-deep-q-networks-from-the-ground-up-1bbda41d3677\n",
    "\n",
    "> https://www.analyticsvidhya.com/blog/2019/04/introduction-deep-q-learning-python/"
   ]
  },
  {
   "cell_type": "code",
   "execution_count": 6,
   "metadata": {},
   "outputs": [
    {
     "name": "stdout",
     "output_type": "stream",
     "text": [
      "DeepQNet(\n",
      "  (mlp): Sequential(\n",
      "    (0): Linear(in_features=4, out_features=24, bias=True)\n",
      "    (1): Tanh()\n",
      "    (2): Linear(in_features=24, out_features=2, bias=True)\n",
      "  )\n",
      ")\n"
     ]
    }
   ],
   "source": [
    "net = DeepQNet()\n",
    "agent = Agent(net, env)\n",
    "print(net)"
   ]
  },
  {
   "cell_type": "code",
   "execution_count": 7,
   "metadata": {},
   "outputs": [
    {
     "name": "stderr",
     "output_type": "stream",
     "text": [
      "/home/rockl33/anaconda3/lib/python3.8/site-packages/torch/autograd/__init__.py:130: UserWarning: CUDA initialization: Found no NVIDIA driver on your system. Please check that you have an NVIDIA GPU and installed a driver from http://www.nvidia.com/Download/index.aspx (Triggered internally at  /pytorch/c10/cuda/CUDAFunctions.cpp:100.)\n",
      "  Variable._execution_engine.run_backward(\n"
     ]
    },
    {
     "name": "stdout",
     "output_type": "stream",
     "text": [
      "Mean score over 50 last episodes: 20\n",
      "Mean score over 50 last episodes: 21\n",
      "Average Loss: 0.2094435989926569\n",
      "Mean score over 50 last episodes: 24\n",
      "Mean score over 50 last episodes: 77\n",
      "Average Loss: 0.27199202951742335\n",
      "Mean score over 50 last episodes: 67\n",
      "Mean score over 50 last episodes: 98\n",
      "Average Loss: 0.30351019590860234\n",
      "Mean score over 50 last episodes: 96\n",
      "Mean score over 50 last episodes: 143\n",
      "Average Loss: 0.3321565033099614\n",
      "Mean score over 50 last episodes: 139\n",
      "Mean score over 50 last episodes: 179\n",
      "Average Loss: 0.3518628022505436\n",
      "Mean score over 50 last episodes: 217\n",
      "Mean score over 50 last episodes: 238\n",
      "Average Loss: 0.3669821060128743\n",
      "Mean score over 50 last episodes: 205\n",
      "Mean score over 50 last episodes: 268\n",
      "Average Loss: 0.378978208207991\n",
      "Mean score over 50 last episodes: 224\n",
      "Mean score over 50 last episodes: 235\n",
      "Average Loss: 0.38955736337578856\n",
      "Mean score over 50 last episodes: 272\n",
      "Mean score over 50 last episodes: 326\n",
      "Average Loss: 0.39773753319124805\n",
      "Mean score over 50 last episodes: 361\n",
      "Mean score over 50 last episodes: 319\n"
     ]
    },
    {
     "data": {
      "image/png": "[encoded data removed]",
      "text/plain": [
       "<Figure size 432x288 with 1 Axes>"
      ]
     },
     "metadata": {
      "needs_background": "light"
     },
     "output_type": "display_data"
    }
   ],
   "source": [
    "agent = train(n_episodes=1000, n_steps_max=2000, print_ever_k_episodes=50)"
   ]
  },
  {
   "cell_type": "code",
   "execution_count": 13,
   "metadata": {},
   "outputs": [
    {
     "name": "stdout",
     "output_type": "stream",
     "text": [
      "Episode finished after 284 timesteps\n"
     ]
    }
   ],
   "source": [
    "env = gym.make('CartPole-v1')\n",
    "env.reset()\n",
    "\n",
    "for i_episode in range(1):\n",
    "    observation = env.reset()\n",
    "    for t in range(1000):\n",
    "        time.sleep(0.02)\n",
    "        env.render()\n",
    "        action = agent.act(observation, 500)\n",
    "        observation, reward, done, info = env.step(action)\n",
    "        if done:\n",
    "            print(\"Episode finished after {} timesteps\".format(t+1))\n",
    "            break\n",
    "env.close()"
   ]
  },
  {
   "cell_type": "markdown",
   "metadata": {},
   "source": [
    "# Pistes\n",
    "\n",
    "> Implémenter UCB plutôt qu'epsilon greedy\n",
    "\n",
    "> Hyperoptimisation (learning rate, architecture, epsilon, discount)\n",
    "\n",
    "> Plus d'épisodes"
   ]
  }
 ],
 "metadata": {
  "kernelspec": {
   "display_name": "Python 3",
   "language": "python",
   "name": "python3"
  },
  "language_info": {
   "codemirror_mode": {
    "name": "ipython",
    "version": 3
   },
   "file_extension": ".py",
   "mimetype": "text/x-python",
   "name": "python",
   "nbconvert_exporter": "python",
   "pygments_lexer": "ipython3",
   "version": "3.8.3"
  }
 },
 "nbformat": 4,
 "nbformat_minor": 4
}
