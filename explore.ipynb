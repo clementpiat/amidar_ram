{
 "cells": [
  {
   "cell_type": "code",
   "execution_count": 176,
   "metadata": {},
   "outputs": [],
   "source": [
    "import gym\n",
    "import time\n",
    "import torch\n",
    "from torch import nn\n",
    "import numpy as np\n",
    "import copy\n",
    "import random as rd\n",
    "import matplotlib.pyplot as plt"
   ]
  },
  {
   "cell_type": "markdown",
   "metadata": {},
   "source": [
    "# Understanding the environment"
   ]
  },
  {
   "cell_type": "code",
   "execution_count": 34,
   "metadata": {
    "collapsed": true,
    "jupyter": {
     "outputs_hidden": true
    }
   },
   "outputs": [
    {
     "name": "stdout",
     "output_type": "stream",
     "text": [
      "0.0\n",
      "0.0\n",
      "0.0\n",
      "0.0\n",
      "0.0\n",
      "0.0\n",
      "0.0\n",
      "0.0\n",
      "0.0\n",
      "0.0\n",
      "0.0\n",
      "0.0\n",
      "0.0\n",
      "0.0\n",
      "0.0\n",
      "0.0\n",
      "0.0\n",
      "0.0\n",
      "0.0\n",
      "0.0\n",
      "0.0\n",
      "0.0\n",
      "0.0\n",
      "0.0\n",
      "0.0\n",
      "0.0\n",
      "0.0\n",
      "0.0\n",
      "0.0\n",
      "0.0\n",
      "0.0\n",
      "0.0\n",
      "0.0\n",
      "0.0\n",
      "0.0\n",
      "0.0\n",
      "0.0\n",
      "0.0\n",
      "0.0\n",
      "0.0\n",
      "0.0\n",
      "0.0\n",
      "0.0\n",
      "0.0\n",
      "0.0\n",
      "0.0\n",
      "0.0\n",
      "0.0\n",
      "0.0\n",
      "0.0\n",
      "0.0\n",
      "0.0\n",
      "0.0\n",
      "0.0\n",
      "0.0\n",
      "0.0\n",
      "0.0\n",
      "0.0\n",
      "0.0\n",
      "0.0\n",
      "0.0\n",
      "0.0\n",
      "0.0\n",
      "0.0\n",
      "0.0\n",
      "0.0\n",
      "0.0\n",
      "0.0\n",
      "0.0\n",
      "0.0\n",
      "0.0\n",
      "0.0\n",
      "0.0\n",
      "0.0\n",
      "0.0\n",
      "0.0\n",
      "0.0\n"
     ]
    },
    {
     "ename": "KeyboardInterrupt",
     "evalue": "",
     "output_type": "error",
     "traceback": [
      "\u001b[0;31m---------------------------------------------------------------------------\u001b[0m",
      "\u001b[0;31mKeyboardInterrupt\u001b[0m                         Traceback (most recent call last)",
      "\u001b[0;32m<ipython-input-34-5aa177782bc2>\u001b[0m in \u001b[0;36m<module>\u001b[0;34m\u001b[0m\n\u001b[1;32m      5\u001b[0m     \u001b[0mobservation\u001b[0m \u001b[0;34m=\u001b[0m \u001b[0menv\u001b[0m\u001b[0;34m.\u001b[0m\u001b[0mreset\u001b[0m\u001b[0;34m(\u001b[0m\u001b[0;34m)\u001b[0m\u001b[0;34m\u001b[0m\u001b[0;34m\u001b[0m\u001b[0m\n\u001b[1;32m      6\u001b[0m     \u001b[0;32mfor\u001b[0m \u001b[0mt\u001b[0m \u001b[0;32min\u001b[0m \u001b[0mrange\u001b[0m\u001b[0;34m(\u001b[0m\u001b[0;36m1000\u001b[0m\u001b[0;34m)\u001b[0m\u001b[0;34m:\u001b[0m\u001b[0;34m\u001b[0m\u001b[0;34m\u001b[0m\u001b[0m\n\u001b[0;32m----> 7\u001b[0;31m         \u001b[0mtime\u001b[0m\u001b[0;34m.\u001b[0m\u001b[0msleep\u001b[0m\u001b[0;34m(\u001b[0m\u001b[0;36m0.02\u001b[0m\u001b[0;34m)\u001b[0m\u001b[0;34m\u001b[0m\u001b[0;34m\u001b[0m\u001b[0m\n\u001b[0m\u001b[1;32m      8\u001b[0m         \u001b[0menv\u001b[0m\u001b[0;34m.\u001b[0m\u001b[0mrender\u001b[0m\u001b[0;34m(\u001b[0m\u001b[0;34m)\u001b[0m\u001b[0;34m\u001b[0m\u001b[0;34m\u001b[0m\u001b[0m\n\u001b[1;32m      9\u001b[0m         \u001b[0maction\u001b[0m \u001b[0;34m=\u001b[0m \u001b[0menv\u001b[0m\u001b[0;34m.\u001b[0m\u001b[0maction_space\u001b[0m\u001b[0;34m.\u001b[0m\u001b[0msample\u001b[0m\u001b[0;34m(\u001b[0m\u001b[0;34m)\u001b[0m\u001b[0;34m\u001b[0m\u001b[0;34m\u001b[0m\u001b[0m\n",
      "\u001b[0;31mKeyboardInterrupt\u001b[0m: "
     ]
    }
   ],
   "source": [
    "env = gym.make('Amidar-ram-v0')\n",
    "env.reset()\n",
    "\n",
    "for i_episode in range(1):\n",
    "    observation = env.reset()\n",
    "    for t in range(1000):\n",
    "        time.sleep(0.02)\n",
    "        env.render()\n",
    "        action = env.action_space.sample()\n",
    "        observation, reward, done, info = env.step(action)\n",
    "        if done:\n",
    "            print(\"Episode finished after {} timesteps\".format(t+1))\n",
    "            break\n",
    "env.close()"
   ]
  },
  {
   "cell_type": "code",
   "execution_count": 23,
   "metadata": {},
   "outputs": [
    {
     "data": {
      "text/plain": [
       "Discrete(10)"
      ]
     },
     "execution_count": 23,
     "metadata": {},
     "output_type": "execute_result"
    }
   ],
   "source": [
    "env.action_space"
   ]
  },
  {
   "cell_type": "code",
   "execution_count": 12,
   "metadata": {},
   "outputs": [
    {
     "data": {
      "text/plain": [
       "Box(0, 255, (128,), uint8)"
      ]
     },
     "execution_count": 12,
     "metadata": {},
     "output_type": "execute_result"
    }
   ],
   "source": [
    "env.observation_space"
   ]
  },
  {
   "cell_type": "code",
   "execution_count": 18,
   "metadata": {},
   "outputs": [
    {
     "data": {
      "text/plain": [
       "array([0, 0, 0, 0, 0, 0, 0, 0, 0, 0, 0, 0, 0, 0, 0, 0, 0, 0, 0, 0, 0, 0,\n",
       "       0, 0, 0, 0, 0, 0, 0, 0, 0, 0, 0, 0, 0, 0, 0, 0, 0, 0, 0, 0, 0, 0,\n",
       "       0, 0, 0, 0, 0, 0, 0, 0, 0, 0, 0, 0, 0, 0, 0, 0, 0, 0, 0, 0, 0, 0,\n",
       "       0, 0, 0, 0, 0, 0, 0, 0, 0, 0, 0, 0, 0, 0, 0, 0, 0, 0, 0, 0, 0, 0,\n",
       "       0, 0, 0, 0, 0, 0, 0, 0, 0, 0, 0, 0, 0, 0, 0, 0, 0, 0, 0, 0, 0, 0,\n",
       "       0, 0, 0, 0, 0, 0, 0, 0, 0, 0, 0, 0, 0, 0, 0, 0, 0, 0], dtype=uint8)"
      ]
     },
     "execution_count": 18,
     "metadata": {},
     "output_type": "execute_result"
    }
   ],
   "source": [
    "env.observation_space.low"
   ]
  },
  {
   "cell_type": "markdown",
   "metadata": {},
   "source": [
    "# Deep Q Network\n",
    "\n",
    "> https://towardsdatascience.com/qrash-course-deep-q-networks-from-the-ground-up-1bbda41d3677\n",
    "\n",
    "> https://www.analyticsvidhya.com/blog/2019/04/introduction-deep-q-learning-python/"
   ]
  },
  {
   "cell_type": "code",
   "execution_count": 179,
   "metadata": {},
   "outputs": [
    {
     "name": "stdout",
     "output_type": "stream",
     "text": [
      "DeepQNet(\n",
      "  (mlp): Sequential(\n",
      "    (0): Linear(in_features=128, out_features=128, bias=True)\n",
      "    (1): ReLU()\n",
      "    (2): Linear(in_features=128, out_features=64, bias=True)\n",
      "    (3): ReLU()\n",
      "    (4): Linear(in_features=64, out_features=10, bias=True)\n",
      "  )\n",
      ")\n"
     ]
    }
   ],
   "source": [
    "class DeepQNet(nn.Module):\n",
    "\n",
    "    def __init__(self, hidden_size=128):\n",
    "        super(DeepQNet, self).__init__()\n",
    "        self.state_space_size = 128\n",
    "        self.action_space_size = 10\n",
    "        self.hidden_size = hidden_size\n",
    "        \n",
    "\n",
    "        self.mlp = nn.Sequential(\n",
    "            nn.Linear(self.state_space_size, self.hidden_size),\n",
    "            nn.ReLU(),\n",
    "            nn.Linear(self.hidden_size, self.hidden_size//2),\n",
    "            nn.ReLU(),\n",
    "            nn.Linear(self.hidden_size//2, self.action_space_size)\n",
    "        )\n",
    "        \n",
    "    def forward(self, x):\n",
    "        return self.mlp(x)\n",
    "\n",
    "    \n",
    "net = DeepQNet()\n",
    "print(net)"
   ]
  },
  {
   "cell_type": "code",
   "execution_count": 180,
   "metadata": {},
   "outputs": [],
   "source": [
    "class Agent():\n",
    "    def __init__(self, net, policy=\"epsilon-greedy\", discount=0.9, epsilon=0.8, batch_size=8, C=32):\n",
    "        \"\"\"\n",
    "        net: network that goes from the state space to the action space\n",
    "        discount: discount factor in the bellman equation\n",
    "        epsilon: epsilon factor for the epsilon greedy policy\n",
    "        C: number of iterations before updating the target network and copying the weights of the current network (for convergence stability)\n",
    "        \"\"\"\n",
    "        self.net = net\n",
    "        self.target_net = copy.deepcopy(net)\n",
    "        \n",
    "        self.policy = policy\n",
    "        self.discount = discount\n",
    "        self.epsilon = epsilon\n",
    "        self.batch_size = batch_size\n",
    "        self.C = C\n",
    "        \n",
    "        self.optimizer = torch.optim.Adam(self.net.parameters(), lr=1e-4)\n",
    "        self.loss = nn.MSELoss()\n",
    "        self.replay_buffer = []\n",
    "        self.iteration = 0\n",
    "\n",
    "        \n",
    "    def act(self, observation):\n",
    "        observation = torch.Tensor(observation)\n",
    "        q = self.net(observation)\n",
    "        if self.policy == \"greedy\":\n",
    "            return torch.argmax(q).item()\n",
    "        \n",
    "        elif self.policy == \"epsilon-greedy\":\n",
    "            if np.random.random() > self.epsilon:\n",
    "                return np.random.randint(self.net.action_space_size)\n",
    "            return torch.argmax(q).item()\n",
    "        \n",
    "        else:\n",
    "            raise BaseException(\"Not implemented yet.\")\n",
    "        \n",
    "    def learn(self, previous_observation, action, reward, observation):\n",
    "        self.replay_buffer.append((previous_observation, action, reward, observation))\n",
    "        \n",
    "        if len(self.replay_buffer) < self.batch_size:\n",
    "            return\n",
    "        \n",
    "        if self.iteration >= self.C:\n",
    "            \"\"\"\n",
    "            Update target network\n",
    "            \"\"\"\n",
    "            self.target_net = copy.deepcopy(net)\n",
    "            self.iteration = 0\n",
    "        \n",
    "        samples = rd.sample(self.replay_buffer, self.batch_size)\n",
    "        previous_observations = torch.cat([torch.Tensor(previous_observation).view(1,-1) for previous_observation,_,_,_ in samples])\n",
    "        observations = torch.cat([torch.Tensor(observation).view(1,-1) for _,_,_,observation in samples])\n",
    "        rewards = torch.Tensor([reward for _,_,reward,_ in samples])\n",
    "\n",
    "        q = self.net(previous_observations)\n",
    "        q = torch.Tensor([q[i,action] for i, (_,action,_,_) in enumerate(samples)])\n",
    "        loss = self.loss(q, rewards + self.discount * torch.max(self.target_net(observations), axis=1).values)\n",
    "            \n",
    "        self.net.zero_grad()\n",
    "        loss.backward()\n",
    "        self.optimizer.step()\n",
    "        self.iteration += 1\n",
    "    \n",
    "agent = Agent(net)"
   ]
  },
  {
   "cell_type": "code",
   "execution_count": 181,
   "metadata": {},
   "outputs": [
    {
     "name": "stdout",
     "output_type": "stream",
     "text": [
      "Episode finished after 722 timesteps\n",
      "Episode finished after 729 timesteps\n",
      "Episode finished after 729 timesteps\n",
      "Episode finished after 828 timesteps\n",
      "Episode finished after 734 timesteps\n",
      "Episode finished after 792 timesteps\n",
      "Episode finished after 840 timesteps\n",
      "Episode finished after 796 timesteps\n",
      "Episode finished after 716 timesteps\n",
      "Episode finished after 761 timesteps\n",
      "Episode finished after 813 timesteps\n",
      "Episode finished after 736 timesteps\n",
      "Episode finished after 873 timesteps\n",
      "Episode finished after 804 timesteps\n",
      "Episode finished after 846 timesteps\n",
      "Episode finished after 732 timesteps\n",
      "Episode finished after 723 timesteps\n",
      "You won!\n",
      "You won!\n",
      "Episode finished after 720 timesteps\n"
     ]
    },
    {
     "data": {
      "text/plain": [
       "[<matplotlib.lines.Line2D at 0x7fce0da290a0>]"
      ]
     },
     "execution_count": 181,
     "metadata": {},
     "output_type": "execute_result"
    },
    {
     "data": {
      "image/png": "[encoded data removed]",
      "text/plain": [
       "<Figure size 432x288 with 1 Axes>"
      ]
     },
     "metadata": {
      "needs_background": "light"
     },
     "output_type": "display_data"
    }
   ],
   "source": [
    "env = gym.make('Amidar-ram-v0')\n",
    "env.reset()\n",
    "\n",
    "n_episodes = 20\n",
    "n_steps_max = 1000\n",
    "scores = []\n",
    "\n",
    "for i_episode in range(n_episodes):\n",
    "    observation = env.reset()\n",
    "    for t in range(n_steps_max):\n",
    "        # env.render()\n",
    "        action = agent.act(observation)\n",
    "        previous_observation = observation\n",
    "        observation, reward, done, info = env.step(action)\n",
    "        agent.learn(previous_observation, action, reward, observation)\n",
    "        \n",
    "        if done:\n",
    "            print(\"Episode finished after {} timesteps\".format(t+1))\n",
    "            scores.append(t+1)\n",
    "            break\n",
    "        \n",
    "    if not done:\n",
    "        print(\"You won!\")\n",
    "        scores.append(n_steps_max)\n",
    "        \n",
    "env.close()\n",
    "plt.plot(scores)"
   ]
  },
  {
   "cell_type": "markdown",
   "metadata": {},
   "source": [
    "# Pistes\n",
    "\n",
    "> Implémenter UCB plutôt qu'epsilon greedy\n",
    "\n",
    "> Hyperoptimisation (learning rate, architecture, epsilon, discount)\n",
    "\n",
    "> Plus d'épisodes"
   ]
  }
 ],
 "metadata": {
  "kernelspec": {
   "display_name": "Python 3",
   "language": "python",
   "name": "python3"
  },
  "language_info": {
   "codemirror_mode": {
    "name": "ipython",
    "version": 3
   },
   "file_extension": ".py",
   "mimetype": "text/x-python",
   "name": "python",
   "nbconvert_exporter": "python",
   "pygments_lexer": "ipython3",
   "version": "3.8.3"
  }
 },
 "nbformat": 4,
 "nbformat_minor": 4
}
